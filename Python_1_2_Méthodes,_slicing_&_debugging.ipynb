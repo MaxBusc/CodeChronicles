{
  "nbformat": 4,
  "nbformat_minor": 0,
  "metadata": {
    "colab": {
      "provenance": [],
      "include_colab_link": true
    },
    "kernelspec": {
      "name": "python3",
      "display_name": "Python 3"
    },
    "language_info": {
      "name": "python"
    }
  },
  "cells": [
    {
      "cell_type": "markdown",
      "metadata": {
        "id": "view-in-github",
        "colab_type": "text"
      },
      "source": [
        "<a href=\"https://colab.research.google.com/github/MaxBusc/CodeChronicles/blob/main/Python_1_2_M%C3%A9thodes%2C_slicing_%26_debugging.ipynb\" target=\"_parent\"><img src=\"https://colab.research.google.com/assets/colab-badge.svg\" alt=\"Open In Colab\"/></a>"
      ]
    },
    {
      "cell_type": "markdown",
      "source": [
        "# Méthodes"
      ],
      "metadata": {
        "id": "2fIBM1WeK8hQ"
      }
    },
    {
      "cell_type": "markdown",
      "source": [
        "## `String`"
      ],
      "metadata": {
        "id": "wHK61RAvsWqf"
      }
    },
    {
      "cell_type": "markdown",
      "source": [
        "1.1 Utilisez une [méthode](https://runestone.academy/ns/books/published/py4e-int/strings/methods.html) Python qui permet de supprimer les espaces au début et à la fin du `string`suivant:"
      ],
      "metadata": {
        "id": "5pQ3lO0VA8pv"
      }
    },
    {
      "cell_type": "code",
      "source": [
        "greeting = \" Hello  World    \"\n",
        "greeting.strip()"
      ],
      "metadata": {
        "id": "Ndbz2h4JAmIJ",
        "colab": {
          "base_uri": "https://localhost:8080/",
          "height": 35
        },
        "outputId": "75949c4f-1310-49a4-af9c-e77757695f94"
      },
      "execution_count": null,
      "outputs": [
        {
          "output_type": "execute_result",
          "data": {
            "text/plain": [
              "'Hello  World'"
            ],
            "application/vnd.google.colaboratory.intrinsic+json": {
              "type": "string"
            }
          },
          "metadata": {},
          "execution_count": 2
        }
      ]
    },
    {
      "cell_type": "markdown",
      "source": [
        "1.2 Utilisez une méthode Python qui permet de mettre en majuscules le `string` suivant:"
      ],
      "metadata": {
        "id": "Gq9puPLsGR4_"
      }
    },
    {
      "cell_type": "code",
      "source": [
        "greeting_message = \"Hi Denis ! Look at me, I'm a Vampire !\"\n",
        "greeting_message.upper()"
      ],
      "metadata": {
        "id": "VUPVZk9IBLXJ",
        "colab": {
          "base_uri": "https://localhost:8080/",
          "height": 35
        },
        "outputId": "6c6f4801-8892-4e40-e384-e134e34c8bd0"
      },
      "execution_count": null,
      "outputs": [
        {
          "output_type": "execute_result",
          "data": {
            "text/plain": [
              "\"HI DENIS ! LOOK AT ME, I'M A VAMPIRE !\""
            ],
            "application/vnd.google.colaboratory.intrinsic+json": {
              "type": "string"
            }
          },
          "metadata": {},
          "execution_count": 1
        }
      ]
    },
    {
      "cell_type": "markdown",
      "source": [
        "1.3 Remplacez les caractères \"f\" par \"n\", et \"v\" par \"t\":"
      ],
      "metadata": {
        "id": "6KFS546UHhT5"
      }
    },
    {
      "cell_type": "code",
      "source": [
        "question = \"C'est une boffe situavion scribe ?\"\n",
        "question.replace(\"f\", \"n\").replace(\"v\", \"t\")"
      ],
      "metadata": {
        "id": "jd6J6v84HJCd",
        "colab": {
          "base_uri": "https://localhost:8080/",
          "height": 35
        },
        "outputId": "68f8f53a-62c8-4939-c97f-15167b69209c"
      },
      "execution_count": null,
      "outputs": [
        {
          "output_type": "execute_result",
          "data": {
            "text/plain": [
              "\"C'est une bonne situation scribe ?\""
            ],
            "application/vnd.google.colaboratory.intrinsic+json": {
              "type": "string"
            }
          },
          "metadata": {},
          "execution_count": 3
        }
      ]
    },
    {
      "cell_type": "markdown",
      "source": [
        "# Slicing"
      ],
      "metadata": {
        "id": "7fwx_-DuC9Eh"
      }
    },
    {
      "cell_type": "markdown",
      "source": [
        "2.1 Maintenant, récupérez la première lettre du `string` suivant:"
      ],
      "metadata": {
        "id": "rBikvZkAC99G"
      }
    },
    {
      "cell_type": "code",
      "source": [
        "greeting = \"Hello World\"\n",
        "greeting[0]"
      ],
      "metadata": {
        "id": "OstzYvLSDCTK",
        "colab": {
          "base_uri": "https://localhost:8080/",
          "height": 35
        },
        "outputId": "551972b0-ed99-4b22-b18a-2b37859d8648"
      },
      "execution_count": null,
      "outputs": [
        {
          "output_type": "execute_result",
          "data": {
            "text/plain": [
              "'H'"
            ],
            "application/vnd.google.colaboratory.intrinsic+json": {
              "type": "string"
            }
          },
          "metadata": {},
          "execution_count": 4
        }
      ]
    },
    {
      "cell_type": "markdown",
      "source": [
        "2.2 Récupérez le premier élément de la `liste` suivante:"
      ],
      "metadata": {
        "id": "f69qj_X_DHkn"
      }
    },
    {
      "cell_type": "code",
      "source": [
        "colors = [\"mintcream\", \"burlywood\", \"salmon\"]\n",
        "colors[0]"
      ],
      "metadata": {
        "id": "-Y1AkD0vDKoO",
        "colab": {
          "base_uri": "https://localhost:8080/",
          "height": 35
        },
        "outputId": "dcc4112b-43ff-4434-f98a-f566a6d9a48c"
      },
      "execution_count": null,
      "outputs": [
        {
          "output_type": "execute_result",
          "data": {
            "text/plain": [
              "'mintcream'"
            ],
            "application/vnd.google.colaboratory.intrinsic+json": {
              "type": "string"
            }
          },
          "metadata": {},
          "execution_count": 5
        }
      ]
    },
    {
      "cell_type": "markdown",
      "source": [
        "2.3 Récupérez le premier élément du tuple suivant:"
      ],
      "metadata": {
        "id": "yyccxp7WDNTX"
      }
    },
    {
      "cell_type": "code",
      "source": [
        "color_palette = (\"burlywood\", \"salmon\", \"mintcream\")\n",
        "color_palette[0]"
      ],
      "metadata": {
        "id": "xNVvDcy_DPyr",
        "colab": {
          "base_uri": "https://localhost:8080/",
          "height": 35
        },
        "outputId": "1be86301-4fe7-4ab8-fb21-696f3857ae7b"
      },
      "execution_count": null,
      "outputs": [
        {
          "output_type": "execute_result",
          "data": {
            "text/plain": [
              "'burlywood'"
            ],
            "application/vnd.google.colaboratory.intrinsic+json": {
              "type": "string"
            }
          },
          "metadata": {},
          "execution_count": 6
        }
      ]
    },
    {
      "cell_type": "markdown",
      "source": [
        "2.4 Récupérez le premier élément du dict suivant:"
      ],
      "metadata": {
        "id": "MtVLa5ZJDR9K"
      }
    },
    {
      "cell_type": "code",
      "source": [
        "person_info = {\"name\": \"Jules César\", \"Job\": \"Musician\", \"age\": 55}\n",
        "person_info [\"name\"]"
      ],
      "metadata": {
        "id": "o_LVNAk4DU1p",
        "colab": {
          "base_uri": "https://localhost:8080/",
          "height": 35
        },
        "outputId": "e0663fd0-d207-4051-b6e9-a2197c200a74"
      },
      "execution_count": null,
      "outputs": [
        {
          "output_type": "execute_result",
          "data": {
            "text/plain": [
              "'Jules César'"
            ],
            "application/vnd.google.colaboratory.intrinsic+json": {
              "type": "string"
            }
          },
          "metadata": {},
          "execution_count": 9
        }
      ]
    },
    {
      "cell_type": "markdown",
      "source": [
        "\n",
        "Pour un dict, on ne parle pas d'éléments, mais de clés 'keys\" et valeurs \"values\"."
      ],
      "metadata": {
        "id": "cz-FT7QIDWnx"
      }
    },
    {
      "cell_type": "markdown",
      "source": [
        "2.5 Récupérez la valeur de la clé name:"
      ],
      "metadata": {
        "id": "065WT9jhDbFV"
      }
    },
    {
      "cell_type": "code",
      "source": [
        "person_info = {\"name\": \"Jules César\", \"Job\": \"Musician\", \"age\": 55}\n",
        "person_info.get (\"name\")"
      ],
      "metadata": {
        "id": "Osa85L8cDdRI",
        "colab": {
          "base_uri": "https://localhost:8080/",
          "height": 35
        },
        "outputId": "15c2bcc9-a9ca-4e49-ee95-94e55e127659"
      },
      "execution_count": null,
      "outputs": [
        {
          "output_type": "execute_result",
          "data": {
            "text/plain": [
              "'Jules César'"
            ],
            "application/vnd.google.colaboratory.intrinsic+json": {
              "type": "string"
            }
          },
          "metadata": {},
          "execution_count": 10
        }
      ]
    },
    {
      "cell_type": "markdown",
      "source": [
        "2.6 Récupérez la clé associée à la première valeur:"
      ],
      "metadata": {
        "id": "qqaDoItlDdxG"
      }
    },
    {
      "cell_type": "code",
      "source": [
        "person_info = {\"name\": \"Jules César\", \"Job\": \"Musician\", \"age\": 55}\n",
        "person_info[\"name\"]\n"
      ],
      "metadata": {
        "id": "tJfcT2h6Dgie",
        "colab": {
          "base_uri": "https://localhost:8080/",
          "height": 35
        },
        "outputId": "9b43e450-fd2b-416f-9fdd-c0219ca7372f"
      },
      "execution_count": null,
      "outputs": [
        {
          "output_type": "execute_result",
          "data": {
            "text/plain": [
              "'Jules César'"
            ],
            "application/vnd.google.colaboratory.intrinsic+json": {
              "type": "string"
            }
          },
          "metadata": {},
          "execution_count": 17
        }
      ]
    },
    {
      "cell_type": "markdown",
      "source": [
        "2.7 Maintenant, récupérez les caractères des indices 2 à 4 ('llo') inclus du string suivant :"
      ],
      "metadata": {
        "id": "tEuqgeI-Dk3N"
      }
    },
    {
      "cell_type": "code",
      "source": [
        "greeting = \"Hello World\"\n",
        "greeting[2:5]"
      ],
      "metadata": {
        "id": "6Hc0Db9dDh_z",
        "colab": {
          "base_uri": "https://localhost:8080/",
          "height": 35
        },
        "outputId": "c33d58a3-80e7-4d42-ae5c-6dc1753e4c46"
      },
      "execution_count": null,
      "outputs": [
        {
          "output_type": "execute_result",
          "data": {
            "text/plain": [
              "'llo'"
            ],
            "application/vnd.google.colaboratory.intrinsic+json": {
              "type": "string"
            }
          },
          "metadata": {},
          "execution_count": 18
        }
      ]
    },
    {
      "cell_type": "markdown",
      "source": [
        "2.8 Récupérez les éléments aux indices 2 à 4 inclus [\"salmon\", ..., \"blanchedalmond\"] de la list suivante:"
      ],
      "metadata": {
        "id": "B9SUudviDvVW"
      }
    },
    {
      "cell_type": "code",
      "source": [
        "color_palette = [\"mintcream\", \"burlywood\", \"salmon\", \"aliceblue\", \"blanchedalmond\", \"cornflowerblue\", \"lavenderblush\"]\n",
        "color_palette[2:5]"
      ],
      "metadata": {
        "id": "57U4hW0LDv8A",
        "colab": {
          "base_uri": "https://localhost:8080/"
        },
        "outputId": "ad949353-13c6-4a10-c936-655b9e9c2ad5"
      },
      "execution_count": null,
      "outputs": [
        {
          "output_type": "execute_result",
          "data": {
            "text/plain": [
              "['salmon', 'aliceblue', 'blanchedalmond']"
            ]
          },
          "metadata": {},
          "execution_count": 20
        }
      ]
    },
    {
      "cell_type": "markdown",
      "source": [
        "# Code debugging"
      ],
      "metadata": {
        "id": "CL5q7sJpLC5l"
      }
    },
    {
      "cell_type": "markdown",
      "source": [
        "3.1 Dans le code ci-dessous, remplacez \"...\" par la syntaxe qui convient pour que la phrase s'affiche en sortie:"
      ],
      "metadata": {
        "id": "tARLcBqkI6UK"
      }
    },
    {
      "cell_type": "code",
      "source": [
        "fruits = [\"apple\", \"banana\"]\n",
        "if \"apple\" in fruits:\n",
        "  print(\"Yes, apple is a fruit!\")"
      ],
      "metadata": {
        "id": "g9i3_Yb-H0fG",
        "colab": {
          "base_uri": "https://localhost:8080/"
        },
        "outputId": "3b5ea081-c4df-438b-a864-2580e2c72878"
      },
      "execution_count": null,
      "outputs": [
        {
          "output_type": "stream",
          "name": "stdout",
          "text": [
            "Yes, apple is a fruit!\n"
          ]
        }
      ]
    },
    {
      "cell_type": "markdown",
      "source": [
        "3.2 Dans le code ci-dessous, remplacez \"...\" par l'opérateur booléen `or` ou `and` qui convient pour que la phrase s'affiche en sortie:"
      ],
      "metadata": {
        "id": "54ZgZmseOmA7"
      }
    },
    {
      "cell_type": "code",
      "source": [
        "if 12 < 5 or 3 == 3:\n",
        "  print(\"Here we go !\")"
      ],
      "metadata": {
        "id": "mBxDU3GlOno4",
        "colab": {
          "base_uri": "https://localhost:8080/"
        },
        "outputId": "12d0686e-d57b-4f63-816c-4e70bbedf33d"
      },
      "execution_count": null,
      "outputs": [
        {
          "output_type": "stream",
          "name": "stdout",
          "text": [
            "Here we go !\n"
          ]
        }
      ]
    },
    {
      "cell_type": "markdown",
      "source": [
        "3.3 Modifiez le code ci-dessous pour que la phrase s'affiche."
      ],
      "metadata": {
        "id": "IHdB-6tcLLPz"
      }
    },
    {
      "cell_type": "code",
      "source": [
        "fruits = [\"kiwi\", \"strawberry\", \"lemon\"]\n",
        "\n",
        "if \"kiwi\".startswith(\"k\"):\n",
        "  print(\"Of course kiwi starts with a 'k'\")"
      ],
      "metadata": {
        "id": "ysiWc9tUImsc",
        "colab": {
          "base_uri": "https://localhost:8080/"
        },
        "outputId": "e2e9f0ca-9b63-4afd-ff7b-9cb3c280134a"
      },
      "execution_count": null,
      "outputs": [
        {
          "output_type": "stream",
          "name": "stdout",
          "text": [
            "Of course kiwi starts with a 'k'\n"
          ]
        }
      ]
    },
    {
      "cell_type": "markdown",
      "source": [
        "3.4 Modifiez le code ci-dessous pour que la phrase s'affiche.  \n",
        "Vous n'avez le droit que de modifier l'emplacement des variables `count_1`, `count_2` et `count_3`.  \n",
        "Aussi, vous pouvez ajoutez des parenthèses pour créer une exception aux priorités opératoires."
      ],
      "metadata": {
        "id": "o2_gf_VmLveE"
      }
    },
    {
      "cell_type": "code",
      "source": [
        "count_1 = 12\n",
        "count_2 = 4\n",
        "count_3 = 2\n",
        "\n",
        "if (count_1 + count_2) / count_3 == 8:\n",
        "  print(\"You can call me 'The MasterMath'.\")"
      ],
      "metadata": {
        "id": "qx6t1A4ULlgB",
        "colab": {
          "base_uri": "https://localhost:8080/"
        },
        "outputId": "7bc30ad4-3ea7-4c81-82ce-b7a57881fb87"
      },
      "execution_count": null,
      "outputs": [
        {
          "output_type": "stream",
          "name": "stdout",
          "text": [
            "You can call me 'The MasterMath'.\n"
          ]
        }
      ]
    },
    {
      "cell_type": "markdown",
      "source": [
        "3.5 Vous allez maintenant vous familiariser avec la division euclidienne.  \n",
        "Il y a ici deux termes à connaître:\n",
        "* Le reste\n",
        "* Le quotient  \n",
        "\n",
        "Faites vos recherches pour être à l'aise avec ces termes.\n",
        "\n",
        "Aussi, faites vos recherches pour savoir quel symbole permet d'afficher le reste ou le quotient, en python.  \n",
        "\n",
        "Une fois que c'est fait, vous pouvez faire l'exercice suivant :  \n",
        "Parmi ses variables, lesquels ont une valeur divisible par 2, donc un reste égale à 0 ?\n",
        "\n",
        "Pour répondre, vous allez devoir tester chacune des variable, et remplacer \"...\" par le symbole qui convient."
      ],
      "metadata": {
        "id": "swkZ_qKytmHQ"
      }
    },
    {
      "cell_type": "code",
      "source": [
        "count_1 = 34\n",
        "count_2 = 37\n",
        "count_3 = 24\n",
        "count_4 = 29\n",
        "count_5 = 31\n",
        "\n",
        "for m in [count_1, count_2, count_3, count_4, count_5]:\n",
        "  if m // 5 > 5:\n",
        "    print(f\"On s'exerce ici avec la division euclidienne. Le quotient de {nom_variable} divisé par 5 est égale à {nom_variable // 5}.\")"
      ],
      "metadata": {
        "id": "gvWHafdntbeC",
        "colab": {
          "base_uri": "https://localhost:8080/"
        },
        "outputId": "220ea3fa-ce15-4d5d-83ba-2d0a94a03a76"
      },
      "execution_count": null,
      "outputs": [
        {
          "output_type": "stream",
          "name": "stdout",
          "text": [
            "On s'exerce ici avec la division euclidienne. Le quotient de 31 divisé par 5 est égale à 6.\n",
            "On s'exerce ici avec la division euclidienne. Le quotient de 31 divisé par 5 est égale à 6.\n",
            "On s'exerce ici avec la division euclidienne. Le quotient de 31 divisé par 5 est égale à 6.\n"
          ]
        }
      ]
    },
    {
      "cell_type": "markdown",
      "source": [
        "3.6 Cette fois, on veut connaître les variables dont les valeurs ont un quotient supérieur à 5 lorsqu'on divise chaque valeur par 5.\n",
        "\n",
        "Remplacez \"...\" par le code qui convient."
      ],
      "metadata": {
        "id": "8d1__TwEwHyx"
      }
    },
    {
      "cell_type": "code",
      "source": [
        "count_1 = 34\n",
        "count_2 = 37\n",
        "count_3 = 24\n",
        "count_4 = 29\n",
        "count_5 = 31\n",
        "\n",
        "count = [count_1,count_2,count_3,count_4,count_5]\n",
        "quotient = [count_1//5,count_2//5,count_3//5,count_4//5,count_5//5]\n",
        "\n",
        "print(count)\n",
        "print(quotient)\n",
        "print (len(quotient))\n",
        "\n",
        "diviseur = 5\n",
        "for i in range(len(quotient)):\n",
        "  if quotient[i] > diviseur:\n",
        "    print(f\"On s'exerce ici avec la division euclidienne. Le quotient de {count[i]} divisé par 5 est égale à {count[i] / 5}.\")"
      ],
      "metadata": {
        "id": "iGAcOPkTuXhh",
        "colab": {
          "base_uri": "https://localhost:8080/"
        },
        "outputId": "49545538-de5b-49d2-b09f-136aa51685f7"
      },
      "execution_count": null,
      "outputs": [
        {
          "output_type": "stream",
          "name": "stdout",
          "text": [
            "[34, 37, 24, 29, 31]\n",
            "[6, 7, 4, 5, 6]\n",
            "5\n",
            "On s'exerce ici avec la division euclidienne. Le quotient de 34 divisé par 5 est égale à 6.8.\n",
            "On s'exerce ici avec la division euclidienne. Le quotient de 37 divisé par 5 est égale à 7.4.\n",
            "On s'exerce ici avec la division euclidienne. Le quotient de 31 divisé par 5 est égale à 6.2.\n"
          ]
        }
      ]
    }
  ]
}